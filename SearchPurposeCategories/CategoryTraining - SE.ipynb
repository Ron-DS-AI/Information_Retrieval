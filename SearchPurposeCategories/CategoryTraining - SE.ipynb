{
 "cells": [
  {
   "cell_type": "code",
   "execution_count": 1,
   "id": "3d2095a5-d9d3-471f-b862-9716f0f4159a",
   "metadata": {},
   "outputs": [],
   "source": [
    "import pandas as pd\n",
    "import torch\n",
    "import torch.nn as nn\n",
    "from transformers import BertTokenizer, BertModel\n",
    "from sklearn.model_selection import train_test_split\n",
    "from torch.utils.data import Dataset, DataLoader\n",
    "from tqdm import tqdm"
   ]
  },
  {
   "cell_type": "code",
   "execution_count": 2,
   "id": "25395bd0-7d77-450e-8a81-aae1848604a9",
   "metadata": {},
   "outputs": [
    {
     "name": "stdout",
     "output_type": "stream",
     "text": [
      "Using device: cuda\n"
     ]
    }
   ],
   "source": [
    "# Device configuration\n",
    "device = torch.device(\"cuda\" if torch.cuda.is_available() else \"cpu\")\n",
    "print(f\"Using device: {device}\")"
   ]
  },
  {
   "cell_type": "code",
   "execution_count": 3,
   "id": "6bf5ecd8-9bfb-4a49-8a39-5049392d487f",
   "metadata": {},
   "outputs": [],
   "source": [
    "df = pd.read_csv('purposes_added_metadata_v2.csv')"
   ]
  },
  {
   "cell_type": "code",
   "execution_count": 4,
   "id": "50c8e4bc-2f66-4098-bb81-c28c5c953496",
   "metadata": {},
   "outputs": [],
   "source": [
    "# Label mapping\n",
    "label_names = [\n",
    "    \"Methodologies or Experimental Designs\",\n",
    "    \"Theoretical Frameworks or Models\",\n",
    "    \"Research Gaps\",\n",
    "    \"Quantitative Data and Analysis\",\n",
    "    \"Literature Review\",\n",
    "    \"Comparative Works\",\n",
    "    \"Exploring Interdisciplinary Connection\"\n",
    "]\n",
    "num_labels = len(label_names)"
   ]
  },
  {
   "cell_type": "code",
   "execution_count": 5,
   "id": "c9012897-cc0e-4da9-b488-f539e7a97c77",
   "metadata": {},
   "outputs": [],
   "source": [
    "# Convert labels to multi-hot encoding\n",
    "def labels_to_multihot(labels):\n",
    "    if labels == \"[]\":  # Unlabelled\n",
    "        return None\n",
    "    labels = eval(labels)  # Convert string list to actual list\n",
    "    multihot = [1 if label_names[i] in labels else 0 for i in range(num_labels)]\n",
    "    return multihot"
   ]
  },
  {
   "cell_type": "code",
   "execution_count": 7,
   "id": "e4aef925-e82a-49b7-bd43-a09797ff096a",
   "metadata": {},
   "outputs": [],
   "source": [
    "df[\"multihot_labels\"] = df[\"tags\"].apply(labels_to_multihot)"
   ]
  },
  {
   "cell_type": "code",
   "execution_count": 8,
   "id": "0055893a-b487-4067-9a22-7dc61925ce13",
   "metadata": {},
   "outputs": [],
   "source": [
    "labelled_df = df[df[\"TagCount\"] > 0].copy()\n",
    "unlabelled_df = df[df[\"TagCount\"] == 0].copy()"
   ]
  },
  {
   "cell_type": "code",
   "execution_count": 10,
   "id": "59d72aaa-7fa7-49ff-bfc1-ff84fcf31057",
   "metadata": {},
   "outputs": [
    {
     "name": "stdout",
     "output_type": "stream",
     "text": [
      "Train size: 5508, Validation size: 1377, Test (unlabelled) size: 2433\n"
     ]
    }
   ],
   "source": [
    "train_df, val_df = train_test_split(labelled_df, test_size=0.2, random_state=42)\n",
    "print(f\"Train size: {len(train_df)}, Validation size: {len(val_df)}, Test (unlabelled) size: {len(unlabelled_df)}\")"
   ]
  },
  {
   "cell_type": "code",
   "execution_count": 11,
   "id": "53fdb7f7-3d93-472b-baa0-aca5d98bdc4a",
   "metadata": {},
   "outputs": [],
   "source": [
    "# Custom Dataset\n",
    "class ArticleDataset(Dataset):\n",
    "    def __init__(self, dataframe, tokenizer, max_len=128):\n",
    "        self.data = dataframe\n",
    "        self.tokenizer = tokenizer\n",
    "        self.max_len = max_len\n",
    "    \n",
    "    def __len__(self):\n",
    "        return len(self.data)\n",
    "    \n",
    "    def __getitem__(self, idx):\n",
    "        abstract = str(self.data.iloc[idx][\"abstract\"])\n",
    "        encoding = self.tokenizer(\n",
    "            abstract,\n",
    "            add_special_tokens=True,\n",
    "            max_length=self.max_len,\n",
    "            truncation=True,\n",
    "            padding=\"max_length\",\n",
    "            return_tensors=\"pt\"\n",
    "        )\n",
    "        \n",
    "        input_ids = encoding[\"input_ids\"].squeeze()\n",
    "        attention_mask = encoding[\"attention_mask\"].squeeze()\n",
    "        \n",
    "        if self.data.iloc[idx][\"TagCount\"] > 0:\n",
    "            labels = torch.tensor(self.data.iloc[idx][\"multihot_labels\"], dtype=torch.float)\n",
    "        else:\n",
    "            labels = torch.zeros(num_labels)  # Placeholder for unlabelled\n",
    "        \n",
    "        return {\n",
    "            \"input_ids\": input_ids,\n",
    "            \"attention_mask\": attention_mask,\n",
    "            \"labels\": labels\n",
    "        }"
   ]
  },
  {
   "cell_type": "code",
   "execution_count": 12,
   "id": "14f8f75e-9a7d-4394-8c2c-fcc29fb1e49b",
   "metadata": {},
   "outputs": [],
   "source": [
    "# Initialize tokenizer\n",
    "tokenizer = BertTokenizer.from_pretrained(\"bert-base-uncased\")"
   ]
  },
  {
   "cell_type": "code",
   "execution_count": 13,
   "id": "5583d738-1343-48b7-b1c8-784d6818fb44",
   "metadata": {},
   "outputs": [],
   "source": [
    "# Create datasets\n",
    "train_dataset = ArticleDataset(train_df, tokenizer)\n",
    "val_dataset = ArticleDataset(val_df, tokenizer)\n",
    "test_dataset = ArticleDataset(unlabelled_df, tokenizer)"
   ]
  },
  {
   "cell_type": "code",
   "execution_count": 14,
   "id": "4c82f1c3-2393-4011-ad89-bbdf3020efda",
   "metadata": {},
   "outputs": [],
   "source": [
    "# Create dataloaders\n",
    "batch_size = 16\n",
    "train_loader = DataLoader(train_dataset, batch_size=batch_size, shuffle=True)\n",
    "val_loader = DataLoader(val_dataset, batch_size=batch_size)\n",
    "test_loader = DataLoader(test_dataset, batch_size=batch_size)"
   ]
  },
  {
   "cell_type": "code",
   "execution_count": 30,
   "id": "5c889304-438f-4103-99f4-5240a388af95",
   "metadata": {},
   "outputs": [],
   "source": [
    "class MultiLabelBERT(nn.Module):\n",
    "    def __init__(self, num_labels):\n",
    "        super(MultiLabelBERT, self).__init__()\n",
    "        self.bert = BertModel.from_pretrained(\"bert-base-uncased\")\n",
    "        self.dropout = nn.Dropout(0.3)\n",
    "        self.classifier = nn.Linear(768, num_labels)\n",
    "    \n",
    "    def forward(self, input_ids, attention_mask):\n",
    "        outputs = self.bert(input_ids=input_ids, attention_mask=attention_mask)\n",
    "        pooled_output = outputs[1]  # [CLS] token\n",
    "        pooled_output = self.dropout(pooled_output)\n",
    "        logits = self.classifier(pooled_output)\n",
    "        return logits"
   ]
  },
  {
   "cell_type": "code",
   "execution_count": 40,
   "id": "5bf798a7-3647-47d4-94b9-06419a1a7d4e",
   "metadata": {},
   "outputs": [],
   "source": [
    "# Initialise model\n",
    "model = MultiLabelBERT(num_labels=num_labels).to(device)\n",
    "optimizer = torch.optim.AdamW(model.parameters(), lr=2e-5)\n",
    "criterion = nn.BCEWithLogitsLoss()  # Binary cross-entropy for multi-label"
   ]
  },
  {
   "cell_type": "code",
   "execution_count": 41,
   "id": "6311424b-1ecb-42f9-980b-47e628877f07",
   "metadata": {},
   "outputs": [],
   "source": [
    "def train_epoch(model, loader, optimizer, criterion):\n",
    "    model.train()\n",
    "    total_loss = 0\n",
    "    correct_preds = 0\n",
    "    total_preds = 0\n",
    "    \n",
    "    for batch in tqdm(loader, desc=\"Training\"):\n",
    "        input_ids = batch[\"input_ids\"].to(device)\n",
    "        attention_mask = batch[\"attention_mask\"].to(device)\n",
    "        labels = batch[\"labels\"].to(device)\n",
    "        \n",
    "        optimizer.zero_grad()\n",
    "        logits = model(input_ids, attention_mask)\n",
    "        loss = criterion(logits, labels)\n",
    "        loss.backward()\n",
    "        optimizer.step()\n",
    "        \n",
    "        total_loss += loss.item()\n",
    "        \n",
    "        preds = torch.sigmoid(logits) > 0.5\n",
    "        correct_preds += torch.sum(preds == labels.bool()).item()\n",
    "        total_preds += labels.numel()\n",
    "        \n",
    "    avg_loss = total_loss / len(loader)\n",
    "    accuracy = correct_preds / total_preds\n",
    "    return avg_loss, accuracy\n",
    "\n",
    "def eval_epoch(model, loader, criterion):\n",
    "    model.eval()\n",
    "    total_loss = 0\n",
    "    correct_preds = 0\n",
    "    total_preds = 0\n",
    "    \n",
    "    with torch.no_grad():\n",
    "        for batch in tqdm(loader, desc=\"Validation\"):\n",
    "            input_ids = batch[\"input_ids\"].to(device)\n",
    "            attention_mask = batch[\"attention_mask\"].to(device)\n",
    "            labels = batch[\"labels\"].to(device)\n",
    "            \n",
    "            logits = model(input_ids, attention_mask)\n",
    "            loss = criterion(logits, labels)\n",
    "            \n",
    "            total_loss += loss.item()\n",
    "            \n",
    "            preds = torch.sigmoid(logits) > 0.5\n",
    "            correct_preds += torch.sum(preds == labels.bool()).item()\n",
    "            total_preds += labels.numel()\n",
    "    \n",
    "    avg_loss = total_loss / len(loader)\n",
    "    accuracy = correct_preds / total_preds\n",
    "    return avg_loss, accuracy"
   ]
  },
  {
   "cell_type": "code",
   "execution_count": 42,
   "id": "a392030d-e130-4bfe-a5e5-2d7d9254c341",
   "metadata": {},
   "outputs": [
    {
     "name": "stdout",
     "output_type": "stream",
     "text": [
      "\n",
      "Epoch 1/20\n"
     ]
    },
    {
     "name": "stderr",
     "output_type": "stream",
     "text": [
      "Training: 100%|██████████| 345/345 [00:48<00:00,  7.11it/s]\n",
      "Validation: 100%|██████████| 87/87 [00:07<00:00, 11.83it/s]\n"
     ]
    },
    {
     "name": "stdout",
     "output_type": "stream",
     "text": [
      "Train Loss: 0.4385, Train Acc: 0.8018\n",
      "Val Loss: 0.3988, Val Acc: 0.8283\n",
      "\n",
      "Epoch 2/20\n"
     ]
    },
    {
     "name": "stderr",
     "output_type": "stream",
     "text": [
      "Training: 100%|██████████| 345/345 [00:48<00:00,  7.09it/s]\n",
      "Validation: 100%|██████████| 87/87 [00:07<00:00, 11.88it/s]\n"
     ]
    },
    {
     "name": "stdout",
     "output_type": "stream",
     "text": [
      "Train Loss: 0.3746, Train Acc: 0.8379\n",
      "Val Loss: 0.3769, Val Acc: 0.8370\n",
      "\n",
      "Epoch 3/20\n"
     ]
    },
    {
     "name": "stderr",
     "output_type": "stream",
     "text": [
      "Training: 100%|██████████| 345/345 [00:48<00:00,  7.08it/s]\n",
      "Validation: 100%|██████████| 87/87 [00:07<00:00, 11.90it/s]\n"
     ]
    },
    {
     "name": "stdout",
     "output_type": "stream",
     "text": [
      "Train Loss: 0.3308, Train Acc: 0.8625\n",
      "Val Loss: 0.3670, Val Acc: 0.8431\n",
      "\n",
      "Epoch 4/20\n"
     ]
    },
    {
     "name": "stderr",
     "output_type": "stream",
     "text": [
      "Training: 100%|██████████| 345/345 [00:48<00:00,  7.08it/s]\n",
      "Validation: 100%|██████████| 87/87 [00:07<00:00, 11.96it/s]\n"
     ]
    },
    {
     "name": "stdout",
     "output_type": "stream",
     "text": [
      "Train Loss: 0.2762, Train Acc: 0.8906\n",
      "Val Loss: 0.3794, Val Acc: 0.8450\n",
      "\n",
      "Epoch 5/20\n"
     ]
    },
    {
     "name": "stderr",
     "output_type": "stream",
     "text": [
      "Training: 100%|██████████| 345/345 [00:48<00:00,  7.09it/s]\n",
      "Validation: 100%|██████████| 87/87 [00:07<00:00, 11.92it/s]\n"
     ]
    },
    {
     "name": "stdout",
     "output_type": "stream",
     "text": [
      "Train Loss: 0.2154, Train Acc: 0.9216\n",
      "Val Loss: 0.4054, Val Acc: 0.8393\n",
      "\n",
      "Epoch 6/20\n"
     ]
    },
    {
     "name": "stderr",
     "output_type": "stream",
     "text": [
      "Training: 100%|██████████| 345/345 [00:48<00:00,  7.10it/s]\n",
      "Validation: 100%|██████████| 87/87 [00:07<00:00, 11.92it/s]\n"
     ]
    },
    {
     "name": "stdout",
     "output_type": "stream",
     "text": [
      "Train Loss: 0.1591, Train Acc: 0.9464\n",
      "Val Loss: 0.4474, Val Acc: 0.8456\n",
      "\n",
      "Epoch 7/20\n"
     ]
    },
    {
     "name": "stderr",
     "output_type": "stream",
     "text": [
      "Training: 100%|██████████| 345/345 [00:48<00:00,  7.09it/s]\n",
      "Validation: 100%|██████████| 87/87 [00:07<00:00, 11.88it/s]\n"
     ]
    },
    {
     "name": "stdout",
     "output_type": "stream",
     "text": [
      "Train Loss: 0.1181, Train Acc: 0.9632\n",
      "Val Loss: 0.4842, Val Acc: 0.8441\n",
      "\n",
      "Epoch 8/20\n"
     ]
    },
    {
     "name": "stderr",
     "output_type": "stream",
     "text": [
      "Training: 100%|██████████| 345/345 [00:48<00:00,  7.09it/s]\n",
      "Validation: 100%|██████████| 87/87 [00:07<00:00, 11.95it/s]\n"
     ]
    },
    {
     "name": "stdout",
     "output_type": "stream",
     "text": [
      "Train Loss: 0.0889, Train Acc: 0.9730\n",
      "Val Loss: 0.5350, Val Acc: 0.8394\n",
      "\n",
      "Epoch 9/20\n"
     ]
    },
    {
     "name": "stderr",
     "output_type": "stream",
     "text": [
      "Training: 100%|██████████| 345/345 [00:48<00:00,  7.08it/s]\n",
      "Validation: 100%|██████████| 87/87 [00:07<00:00, 11.98it/s]\n"
     ]
    },
    {
     "name": "stdout",
     "output_type": "stream",
     "text": [
      "Train Loss: 0.0620, Train Acc: 0.9835\n",
      "Val Loss: 0.5680, Val Acc: 0.8383\n",
      "\n",
      "Epoch 10/20\n"
     ]
    },
    {
     "name": "stderr",
     "output_type": "stream",
     "text": [
      "Training: 100%|██████████| 345/345 [00:48<00:00,  7.09it/s]\n",
      "Validation: 100%|██████████| 87/87 [00:07<00:00, 11.97it/s]\n"
     ]
    },
    {
     "name": "stdout",
     "output_type": "stream",
     "text": [
      "Train Loss: 0.0473, Train Acc: 0.9881\n",
      "Val Loss: 0.5875, Val Acc: 0.8424\n",
      "\n",
      "Epoch 11/20\n"
     ]
    },
    {
     "name": "stderr",
     "output_type": "stream",
     "text": [
      "Training: 100%|██████████| 345/345 [00:48<00:00,  7.09it/s]\n",
      "Validation: 100%|██████████| 87/87 [00:07<00:00, 11.94it/s]\n"
     ]
    },
    {
     "name": "stdout",
     "output_type": "stream",
     "text": [
      "Train Loss: 0.0359, Train Acc: 0.9918\n",
      "Val Loss: 0.6241, Val Acc: 0.8429\n",
      "\n",
      "Epoch 12/20\n"
     ]
    },
    {
     "name": "stderr",
     "output_type": "stream",
     "text": [
      "Training: 100%|██████████| 345/345 [00:48<00:00,  7.09it/s]\n",
      "Validation: 100%|██████████| 87/87 [00:07<00:00, 11.99it/s]\n"
     ]
    },
    {
     "name": "stdout",
     "output_type": "stream",
     "text": [
      "Train Loss: 0.0286, Train Acc: 0.9938\n",
      "Val Loss: 0.6467, Val Acc: 0.8417\n",
      "\n",
      "Epoch 13/20\n"
     ]
    },
    {
     "name": "stderr",
     "output_type": "stream",
     "text": [
      "Training: 100%|██████████| 345/345 [00:48<00:00,  7.11it/s]\n",
      "Validation: 100%|██████████| 87/87 [00:07<00:00, 11.63it/s]\n"
     ]
    },
    {
     "name": "stdout",
     "output_type": "stream",
     "text": [
      "Train Loss: 0.0261, Train Acc: 0.9940\n",
      "Val Loss: 0.6736, Val Acc: 0.8400\n",
      "\n",
      "Epoch 14/20\n"
     ]
    },
    {
     "name": "stderr",
     "output_type": "stream",
     "text": [
      "Training: 100%|██████████| 345/345 [00:48<00:00,  7.05it/s]\n",
      "Validation: 100%|██████████| 87/87 [00:07<00:00, 11.61it/s]\n"
     ]
    },
    {
     "name": "stdout",
     "output_type": "stream",
     "text": [
      "Train Loss: 0.0220, Train Acc: 0.9949\n",
      "Val Loss: 0.6945, Val Acc: 0.8414\n",
      "\n",
      "Epoch 15/20\n"
     ]
    },
    {
     "name": "stderr",
     "output_type": "stream",
     "text": [
      "Training: 100%|██████████| 345/345 [00:48<00:00,  7.08it/s]\n",
      "Validation: 100%|██████████| 87/87 [00:07<00:00, 11.92it/s]\n"
     ]
    },
    {
     "name": "stdout",
     "output_type": "stream",
     "text": [
      "Train Loss: 0.0184, Train Acc: 0.9958\n",
      "Val Loss: 0.7059, Val Acc: 0.8404\n",
      "\n",
      "Epoch 16/20\n"
     ]
    },
    {
     "name": "stderr",
     "output_type": "stream",
     "text": [
      "Training: 100%|██████████| 345/345 [00:59<00:00,  5.79it/s]\n",
      "Validation: 100%|██████████| 87/87 [00:11<00:00,  7.77it/s]\n"
     ]
    },
    {
     "name": "stdout",
     "output_type": "stream",
     "text": [
      "Train Loss: 0.0162, Train Acc: 0.9961\n",
      "Val Loss: 0.7363, Val Acc: 0.8393\n",
      "\n",
      "Epoch 17/20\n"
     ]
    },
    {
     "name": "stderr",
     "output_type": "stream",
     "text": [
      "Training: 100%|██████████| 345/345 [01:24<00:00,  4.08it/s]\n",
      "Validation: 100%|██████████| 87/87 [00:11<00:00,  7.90it/s]\n"
     ]
    },
    {
     "name": "stdout",
     "output_type": "stream",
     "text": [
      "Train Loss: 0.0146, Train Acc: 0.9964\n",
      "Val Loss: 0.7606, Val Acc: 0.8402\n",
      "\n",
      "Epoch 18/20\n"
     ]
    },
    {
     "name": "stderr",
     "output_type": "stream",
     "text": [
      "Training: 100%|██████████| 345/345 [01:24<00:00,  4.10it/s]\n",
      "Validation: 100%|██████████| 87/87 [00:11<00:00,  7.86it/s]\n"
     ]
    },
    {
     "name": "stdout",
     "output_type": "stream",
     "text": [
      "Train Loss: 0.0156, Train Acc: 0.9962\n",
      "Val Loss: 0.7806, Val Acc: 0.8412\n",
      "\n",
      "Epoch 19/20\n"
     ]
    },
    {
     "name": "stderr",
     "output_type": "stream",
     "text": [
      "Training: 100%|██████████| 345/345 [01:24<00:00,  4.10it/s]\n",
      "Validation: 100%|██████████| 87/87 [00:11<00:00,  7.86it/s]\n"
     ]
    },
    {
     "name": "stdout",
     "output_type": "stream",
     "text": [
      "Train Loss: 0.0174, Train Acc: 0.9949\n",
      "Val Loss: 0.8016, Val Acc: 0.8403\n",
      "\n",
      "Epoch 20/20\n"
     ]
    },
    {
     "name": "stderr",
     "output_type": "stream",
     "text": [
      "Training: 100%|██████████| 345/345 [01:23<00:00,  4.11it/s]\n",
      "Validation: 100%|██████████| 87/87 [00:10<00:00,  7.91it/s]"
     ]
    },
    {
     "name": "stdout",
     "output_type": "stream",
     "text": [
      "Train Loss: 0.0156, Train Acc: 0.9956\n",
      "Val Loss: 0.8310, Val Acc: 0.8375\n"
     ]
    },
    {
     "name": "stderr",
     "output_type": "stream",
     "text": [
      "\n"
     ]
    }
   ],
   "source": [
    "epochs = 20\n",
    "for epoch in range(epochs):\n",
    "    print(f\"\\nEpoch {epoch + 1}/{epochs}\")\n",
    "    train_loss, train_acc = train_epoch(model, train_loader, optimizer, criterion)\n",
    "    val_loss, val_acc = eval_epoch(model, val_loader, criterion)\n",
    "    \n",
    "    print(f\"Train Loss: {train_loss:.4f}, Train Acc: {train_acc:.4f}\")\n",
    "    print(f\"Val Loss: {val_loss:.4f}, Val Acc: {val_acc:.4f}\")"
   ]
  },
  {
   "cell_type": "code",
   "execution_count": 43,
   "id": "9a1c11b8-3788-4f29-85c0-3df1c769df4a",
   "metadata": {},
   "outputs": [],
   "source": [
    "def predict(model, loader):\n",
    "    model.eval()\n",
    "    predictions = []\n",
    "    \n",
    "    with torch.no_grad():\n",
    "        for batch in tqdm(loader, desc=\"Predicting\"):\n",
    "            input_ids = batch[\"input_ids\"].to(device)\n",
    "            attention_mask = batch[\"attention_mask\"].to(device)\n",
    "            \n",
    "            logits = model(input_ids, attention_mask)\n",
    "            preds = torch.sigmoid(logits) > 0.5\n",
    "            predictions.extend(preds.cpu().numpy())\n",
    "    \n",
    "    return predictions"
   ]
  },
  {
   "cell_type": "code",
   "execution_count": 44,
   "id": "4dc35532-5d85-455e-8b7f-084ce13c6f17",
   "metadata": {},
   "outputs": [
    {
     "name": "stderr",
     "output_type": "stream",
     "text": [
      "Predicting: 100%|██████████| 153/153 [00:16<00:00,  9.36it/s]"
     ]
    },
    {
     "name": "stdout",
     "output_type": "stream",
     "text": [
      "                                               abstract  \\\n",
      "1596  Background: Patients with pre-existing cirrhos...   \n",
      "1600  The AAD COVID-19 Registry: Crowdsourcing Derma...   \n",
      "1605  Abstract We present a case of coronavirus dise...   \n",
      "1607  Background Coronavirus infectious disease 2019...   \n",
      "1635           Echocardiography in the Time of COVID-19   \n",
      "\n",
      "                                       predicted_labels  \n",
      "1596                   [Quantitative Data and Analysis]  \n",
      "1600                   [Quantitative Data and Analysis]  \n",
      "1605                                                 []  \n",
      "1607                   [Quantitative Data and Analysis]  \n",
      "1635  [Theoretical Frameworks or Models, Comparative...  \n"
     ]
    },
    {
     "name": "stderr",
     "output_type": "stream",
     "text": [
      "\n"
     ]
    }
   ],
   "source": [
    "# Get predictions for unlabelled data\n",
    "test_preds = predict(model, test_loader)\n",
    "\n",
    "# Convert predictions to label names\n",
    "predicted_labels = []\n",
    "for pred in test_preds:\n",
    "    labels = [label_names[i] for i in range(num_labels) if pred[i]]\n",
    "    predicted_labels.append(labels)\n",
    "\n",
    "# Add predictions to unlabelled_df\n",
    "unlabelled_df[\"predicted_labels\"] = predicted_labels\n",
    "print(unlabelled_df[[\"abstract\", \"predicted_labels\"]].head())"
   ]
  },
  {
   "cell_type": "code",
   "execution_count": 45,
   "id": "a2ec9ba0-65f7-4ef5-b575-d734f78be657",
   "metadata": {},
   "outputs": [
    {
     "data": {
      "text/html": [
       "<div>\n",
       "<style scoped>\n",
       "    .dataframe tbody tr th:only-of-type {\n",
       "        vertical-align: middle;\n",
       "    }\n",
       "\n",
       "    .dataframe tbody tr th {\n",
       "        vertical-align: top;\n",
       "    }\n",
       "\n",
       "    .dataframe thead th {\n",
       "        text-align: right;\n",
       "    }\n",
       "</style>\n",
       "<table border=\"1\" class=\"dataframe\">\n",
       "  <thead>\n",
       "    <tr style=\"text-align: right;\">\n",
       "      <th></th>\n",
       "      <th>cord_uid</th>\n",
       "      <th>sha</th>\n",
       "      <th>source_x</th>\n",
       "      <th>title</th>\n",
       "      <th>doi</th>\n",
       "      <th>pmcid</th>\n",
       "      <th>pubmed_id</th>\n",
       "      <th>license</th>\n",
       "      <th>abstract</th>\n",
       "      <th>publish_time</th>\n",
       "      <th>...</th>\n",
       "      <th>pmc_json_files</th>\n",
       "      <th>url</th>\n",
       "      <th>s2_id</th>\n",
       "      <th>referenced_by_count</th>\n",
       "      <th>JournalName_DOI</th>\n",
       "      <th>tags</th>\n",
       "      <th>TagCount</th>\n",
       "      <th>multihot_labels</th>\n",
       "      <th>predicted_labels</th>\n",
       "      <th>predicted_count</th>\n",
       "    </tr>\n",
       "  </thead>\n",
       "  <tbody>\n",
       "    <tr>\n",
       "      <th>1596</th>\n",
       "      <td>4i02f1ji</td>\n",
       "      <td>a08d4b749b4d5b73acfa15344195a097a9699c96</td>\n",
       "      <td>MedRxiv</td>\n",
       "      <td>Clinical course and risk factors for mortality...</td>\n",
       "      <td>10.1101/2020.04.24.20072611</td>\n",
       "      <td>NaN</td>\n",
       "      <td>NaN</td>\n",
       "      <td>medrxiv</td>\n",
       "      <td>Background: Patients with pre-existing cirrhos...</td>\n",
       "      <td>2020-04-28</td>\n",
       "      <td>...</td>\n",
       "      <td>NaN</td>\n",
       "      <td>https://doi.org/10.1101/2020.04.24.20072611</td>\n",
       "      <td>216653286.0</td>\n",
       "      <td>0</td>\n",
       "      <td>NaN</td>\n",
       "      <td>[]</td>\n",
       "      <td>0</td>\n",
       "      <td>None</td>\n",
       "      <td>[Quantitative Data and Analysis]</td>\n",
       "      <td>1</td>\n",
       "    </tr>\n",
       "    <tr>\n",
       "      <th>1600</th>\n",
       "      <td>3q6idrmz</td>\n",
       "      <td>b2aef9bcd1a7b70237ed02ef4004c94f86017151</td>\n",
       "      <td>Elsevier; Medline; PMC</td>\n",
       "      <td>The AAD COVID-19 Registry: Crowdsourcing Derma...</td>\n",
       "      <td>10.1016/j.jaad.2020.04.045</td>\n",
       "      <td>PMC7162762</td>\n",
       "      <td>32305438.0</td>\n",
       "      <td>els-covid</td>\n",
       "      <td>The AAD COVID-19 Registry: Crowdsourcing Derma...</td>\n",
       "      <td>2020-04-17</td>\n",
       "      <td>...</td>\n",
       "      <td>NaN</td>\n",
       "      <td>https://www.sciencedirect.com/science/article/...</td>\n",
       "      <td>215790286.0</td>\n",
       "      <td>54</td>\n",
       "      <td>Journal of the American Academy of Dermatology</td>\n",
       "      <td>[]</td>\n",
       "      <td>0</td>\n",
       "      <td>None</td>\n",
       "      <td>[Quantitative Data and Analysis]</td>\n",
       "      <td>1</td>\n",
       "    </tr>\n",
       "    <tr>\n",
       "      <th>1605</th>\n",
       "      <td>ys7z7j8j</td>\n",
       "      <td>ff2e6962ae80b7f17be32dd59513bdeb3a2d6e92</td>\n",
       "      <td>Elsevier; Medline; PMC</td>\n",
       "      <td>Keratoconjunctivitis as the initial medical pr...</td>\n",
       "      <td>10.1016/j.jcjo.2020.03.003</td>\n",
       "      <td>PMC7124283</td>\n",
       "      <td>32284146.0</td>\n",
       "      <td>els-covid</td>\n",
       "      <td>Abstract We present a case of coronavirus dise...</td>\n",
       "      <td>2020-04-02</td>\n",
       "      <td>...</td>\n",
       "      <td>document_parses/pmc_json/PMC7124283.xml.json</td>\n",
       "      <td>https://api.elsevier.com/content/article/pii/S...</td>\n",
       "      <td>214758418.0</td>\n",
       "      <td>219</td>\n",
       "      <td>Canadian Journal of Ophthalmology</td>\n",
       "      <td>[]</td>\n",
       "      <td>0</td>\n",
       "      <td>None</td>\n",
       "      <td>[]</td>\n",
       "      <td>0</td>\n",
       "    </tr>\n",
       "    <tr>\n",
       "      <th>1607</th>\n",
       "      <td>tgpqnoq2</td>\n",
       "      <td>129a24f0574121f32e5bb5bb3495d4ab684e79b6</td>\n",
       "      <td>MedRxiv</td>\n",
       "      <td>Heparin-induced thrombocytopenia is associated...</td>\n",
       "      <td>10.1101/2020.04.23.20076851</td>\n",
       "      <td>NaN</td>\n",
       "      <td>NaN</td>\n",
       "      <td>medrxiv</td>\n",
       "      <td>Background Coronavirus infectious disease 2019...</td>\n",
       "      <td>2020-04-28</td>\n",
       "      <td>...</td>\n",
       "      <td>NaN</td>\n",
       "      <td>http://medrxiv.org/cgi/content/short/2020.04.2...</td>\n",
       "      <td>216588708.0</td>\n",
       "      <td>42</td>\n",
       "      <td>NaN</td>\n",
       "      <td>[]</td>\n",
       "      <td>0</td>\n",
       "      <td>None</td>\n",
       "      <td>[Quantitative Data and Analysis]</td>\n",
       "      <td>1</td>\n",
       "    </tr>\n",
       "    <tr>\n",
       "      <th>1635</th>\n",
       "      <td>bvdyhq6v</td>\n",
       "      <td>e1000a407a8d3581502550fff91c69ffed0f760e</td>\n",
       "      <td>Elsevier; Medline; PMC</td>\n",
       "      <td>Echocardiography in the Time of COVID-19</td>\n",
       "      <td>10.1016/j.echo.2020.04.011</td>\n",
       "      <td>PMC7146691</td>\n",
       "      <td>32503705.0</td>\n",
       "      <td>els-covid</td>\n",
       "      <td>Echocardiography in the Time of COVID-19</td>\n",
       "      <td>2020-04-10</td>\n",
       "      <td>...</td>\n",
       "      <td>NaN</td>\n",
       "      <td>https://www.sciencedirect.com/science/article/...</td>\n",
       "      <td>215550941.0</td>\n",
       "      <td>33</td>\n",
       "      <td>Journal of the American Society of Echocardiog...</td>\n",
       "      <td>[]</td>\n",
       "      <td>0</td>\n",
       "      <td>None</td>\n",
       "      <td>[Theoretical Frameworks or Models, Comparative...</td>\n",
       "      <td>1</td>\n",
       "    </tr>\n",
       "    <tr>\n",
       "      <th>...</th>\n",
       "      <td>...</td>\n",
       "      <td>...</td>\n",
       "      <td>...</td>\n",
       "      <td>...</td>\n",
       "      <td>...</td>\n",
       "      <td>...</td>\n",
       "      <td>...</td>\n",
       "      <td>...</td>\n",
       "      <td>...</td>\n",
       "      <td>...</td>\n",
       "      <td>...</td>\n",
       "      <td>...</td>\n",
       "      <td>...</td>\n",
       "      <td>...</td>\n",
       "      <td>...</td>\n",
       "      <td>...</td>\n",
       "      <td>...</td>\n",
       "      <td>...</td>\n",
       "      <td>...</td>\n",
       "      <td>...</td>\n",
       "      <td>...</td>\n",
       "    </tr>\n",
       "    <tr>\n",
       "      <th>9303</th>\n",
       "      <td>kb8dz8hd</td>\n",
       "      <td>NaN</td>\n",
       "      <td>Elsevier; Medline; PMC; WHO</td>\n",
       "      <td>Is it super-spreading</td>\n",
       "      <td>10.1016/s0262-4079(20)30375-4</td>\n",
       "      <td>PMC7130545</td>\n",
       "      <td>32287797.0</td>\n",
       "      <td>els-covid</td>\n",
       "      <td>If the covid-19 virus is transmitted largely b...</td>\n",
       "      <td>2020-02-22</td>\n",
       "      <td>...</td>\n",
       "      <td>NaN</td>\n",
       "      <td>https://api.elsevier.com/content/article/pii/S...</td>\n",
       "      <td>213341263.0</td>\n",
       "      <td>4</td>\n",
       "      <td>New Scientist</td>\n",
       "      <td>[]</td>\n",
       "      <td>0</td>\n",
       "      <td>None</td>\n",
       "      <td>[Theoretical Frameworks or Models]</td>\n",
       "      <td>0</td>\n",
       "    </tr>\n",
       "    <tr>\n",
       "      <th>9304</th>\n",
       "      <td>4ikzvnmv</td>\n",
       "      <td>f85a9161da699b741dea23835c60dfbff51ce959</td>\n",
       "      <td>Medline; PMC</td>\n",
       "      <td>Direct Diagnostic Tests for Lyme Disease</td>\n",
       "      <td>10.1093/cid/ciy614</td>\n",
       "      <td>PMC6399434</td>\n",
       "      <td>30307486.0</td>\n",
       "      <td>green-oa</td>\n",
       "      <td>Borrelia burgdorferi was discovered to be the ...</td>\n",
       "      <td>2018-10-11</td>\n",
       "      <td>...</td>\n",
       "      <td>document_parses/pmc_json/PMC6399434.xml.json</td>\n",
       "      <td>https://doi.org/10.1093/cid/ciy614; https://ww...</td>\n",
       "      <td>52957133.0</td>\n",
       "      <td>68</td>\n",
       "      <td>Clinical Infectious Diseases</td>\n",
       "      <td>[]</td>\n",
       "      <td>0</td>\n",
       "      <td>None</td>\n",
       "      <td>[]</td>\n",
       "      <td>2</td>\n",
       "    </tr>\n",
       "    <tr>\n",
       "      <th>9306</th>\n",
       "      <td>4zg3ms5b</td>\n",
       "      <td>d69fafa5d266102bd2666aac853ef94472ba0a8e</td>\n",
       "      <td>Elsevier; Medline; PMC</td>\n",
       "      <td>Outbreak of a new coronavirus: what anaestheti...</td>\n",
       "      <td>10.1016/j.bja.2020.02.008</td>\n",
       "      <td>PMC7124191</td>\n",
       "      <td>32115186.0</td>\n",
       "      <td>els-covid</td>\n",
       "      <td>Outbreak of a new coronavirus: what anaestheti...</td>\n",
       "      <td>2020-02-27</td>\n",
       "      <td>...</td>\n",
       "      <td>document_parses/pmc_json/PMC7124191.xml.json</td>\n",
       "      <td>https://doi.org/10.1016/j.bja.2020.02.008; htt...</td>\n",
       "      <td>211726841.0</td>\n",
       "      <td>238</td>\n",
       "      <td>British Journal of Anaesthesia</td>\n",
       "      <td>[]</td>\n",
       "      <td>0</td>\n",
       "      <td>None</td>\n",
       "      <td>[]</td>\n",
       "      <td>0</td>\n",
       "    </tr>\n",
       "    <tr>\n",
       "      <th>9308</th>\n",
       "      <td>zsfylxav</td>\n",
       "      <td>f093aa0cf1ddef303ec4c049ab0be105587dd92c</td>\n",
       "      <td>Medline; PMC</td>\n",
       "      <td>Mapping Climate Change Vulnerabilities to Infe...</td>\n",
       "      <td>10.1289/ehp.1103805</td>\n",
       "      <td>PMC3295348</td>\n",
       "      <td>22113877.0</td>\n",
       "      <td>cc0</td>\n",
       "      <td>Background: The incidence, outbreak frequency,...</td>\n",
       "      <td>2011-11-23</td>\n",
       "      <td>...</td>\n",
       "      <td>document_parses/pmc_json/PMC3295348.xml.json</td>\n",
       "      <td>https://www.ncbi.nlm.nih.gov/pubmed/22113877/;...</td>\n",
       "      <td>15853141.0</td>\n",
       "      <td>100</td>\n",
       "      <td>Environmental Health Perspectives</td>\n",
       "      <td>[]</td>\n",
       "      <td>0</td>\n",
       "      <td>None</td>\n",
       "      <td>[Methodologies or Experimental Designs, Quanti...</td>\n",
       "      <td>1</td>\n",
       "    </tr>\n",
       "    <tr>\n",
       "      <th>9312</th>\n",
       "      <td>sidtw0j2</td>\n",
       "      <td>5b87acee87555c5df885f9d3735eedcacd69656e</td>\n",
       "      <td>Elsevier; PMC</td>\n",
       "      <td>Chapter 5 Aeromicrobiology</td>\n",
       "      <td>10.1016/b978-0-12-394626-3.00005-3</td>\n",
       "      <td>PMC7149531</td>\n",
       "      <td>NaN</td>\n",
       "      <td>els-covid</td>\n",
       "      <td>Biological material including microorganisms a...</td>\n",
       "      <td>2015-12-31</td>\n",
       "      <td>...</td>\n",
       "      <td>document_parses/pmc_json/PMC7149531.xml.json</td>\n",
       "      <td>https://www.sciencedirect.com/science/article/...</td>\n",
       "      <td>132618122.0</td>\n",
       "      <td>38</td>\n",
       "      <td>Environmental Microbiology</td>\n",
       "      <td>[]</td>\n",
       "      <td>0</td>\n",
       "      <td>None</td>\n",
       "      <td>[Theoretical Frameworks or Models]</td>\n",
       "      <td>2</td>\n",
       "    </tr>\n",
       "  </tbody>\n",
       "</table>\n",
       "<p>2433 rows × 26 columns</p>\n",
       "</div>"
      ],
      "text/plain": [
       "      cord_uid                                       sha  \\\n",
       "1596  4i02f1ji  a08d4b749b4d5b73acfa15344195a097a9699c96   \n",
       "1600  3q6idrmz  b2aef9bcd1a7b70237ed02ef4004c94f86017151   \n",
       "1605  ys7z7j8j  ff2e6962ae80b7f17be32dd59513bdeb3a2d6e92   \n",
       "1607  tgpqnoq2  129a24f0574121f32e5bb5bb3495d4ab684e79b6   \n",
       "1635  bvdyhq6v  e1000a407a8d3581502550fff91c69ffed0f760e   \n",
       "...        ...                                       ...   \n",
       "9303  kb8dz8hd                                       NaN   \n",
       "9304  4ikzvnmv  f85a9161da699b741dea23835c60dfbff51ce959   \n",
       "9306  4zg3ms5b  d69fafa5d266102bd2666aac853ef94472ba0a8e   \n",
       "9308  zsfylxav  f093aa0cf1ddef303ec4c049ab0be105587dd92c   \n",
       "9312  sidtw0j2  5b87acee87555c5df885f9d3735eedcacd69656e   \n",
       "\n",
       "                         source_x  \\\n",
       "1596                      MedRxiv   \n",
       "1600       Elsevier; Medline; PMC   \n",
       "1605       Elsevier; Medline; PMC   \n",
       "1607                      MedRxiv   \n",
       "1635       Elsevier; Medline; PMC   \n",
       "...                           ...   \n",
       "9303  Elsevier; Medline; PMC; WHO   \n",
       "9304                 Medline; PMC   \n",
       "9306       Elsevier; Medline; PMC   \n",
       "9308                 Medline; PMC   \n",
       "9312                Elsevier; PMC   \n",
       "\n",
       "                                                  title  \\\n",
       "1596  Clinical course and risk factors for mortality...   \n",
       "1600  The AAD COVID-19 Registry: Crowdsourcing Derma...   \n",
       "1605  Keratoconjunctivitis as the initial medical pr...   \n",
       "1607  Heparin-induced thrombocytopenia is associated...   \n",
       "1635           Echocardiography in the Time of COVID-19   \n",
       "...                                                 ...   \n",
       "9303                              Is it super-spreading   \n",
       "9304           Direct Diagnostic Tests for Lyme Disease   \n",
       "9306  Outbreak of a new coronavirus: what anaestheti...   \n",
       "9308  Mapping Climate Change Vulnerabilities to Infe...   \n",
       "9312                         Chapter 5 Aeromicrobiology   \n",
       "\n",
       "                                     doi       pmcid   pubmed_id    license  \\\n",
       "1596         10.1101/2020.04.24.20072611         NaN         NaN    medrxiv   \n",
       "1600          10.1016/j.jaad.2020.04.045  PMC7162762  32305438.0  els-covid   \n",
       "1605          10.1016/j.jcjo.2020.03.003  PMC7124283  32284146.0  els-covid   \n",
       "1607         10.1101/2020.04.23.20076851         NaN         NaN    medrxiv   \n",
       "1635          10.1016/j.echo.2020.04.011  PMC7146691  32503705.0  els-covid   \n",
       "...                                  ...         ...         ...        ...   \n",
       "9303       10.1016/s0262-4079(20)30375-4  PMC7130545  32287797.0  els-covid   \n",
       "9304                  10.1093/cid/ciy614  PMC6399434  30307486.0   green-oa   \n",
       "9306           10.1016/j.bja.2020.02.008  PMC7124191  32115186.0  els-covid   \n",
       "9308                 10.1289/ehp.1103805  PMC3295348  22113877.0        cc0   \n",
       "9312  10.1016/b978-0-12-394626-3.00005-3  PMC7149531         NaN  els-covid   \n",
       "\n",
       "                                               abstract publish_time  ...  \\\n",
       "1596  Background: Patients with pre-existing cirrhos...   2020-04-28  ...   \n",
       "1600  The AAD COVID-19 Registry: Crowdsourcing Derma...   2020-04-17  ...   \n",
       "1605  Abstract We present a case of coronavirus dise...   2020-04-02  ...   \n",
       "1607  Background Coronavirus infectious disease 2019...   2020-04-28  ...   \n",
       "1635           Echocardiography in the Time of COVID-19   2020-04-10  ...   \n",
       "...                                                 ...          ...  ...   \n",
       "9303  If the covid-19 virus is transmitted largely b...   2020-02-22  ...   \n",
       "9304  Borrelia burgdorferi was discovered to be the ...   2018-10-11  ...   \n",
       "9306  Outbreak of a new coronavirus: what anaestheti...   2020-02-27  ...   \n",
       "9308  Background: The incidence, outbreak frequency,...   2011-11-23  ...   \n",
       "9312  Biological material including microorganisms a...   2015-12-31  ...   \n",
       "\n",
       "                                    pmc_json_files  \\\n",
       "1596                                           NaN   \n",
       "1600                                           NaN   \n",
       "1605  document_parses/pmc_json/PMC7124283.xml.json   \n",
       "1607                                           NaN   \n",
       "1635                                           NaN   \n",
       "...                                            ...   \n",
       "9303                                           NaN   \n",
       "9304  document_parses/pmc_json/PMC6399434.xml.json   \n",
       "9306  document_parses/pmc_json/PMC7124191.xml.json   \n",
       "9308  document_parses/pmc_json/PMC3295348.xml.json   \n",
       "9312  document_parses/pmc_json/PMC7149531.xml.json   \n",
       "\n",
       "                                                    url        s2_id  \\\n",
       "1596        https://doi.org/10.1101/2020.04.24.20072611  216653286.0   \n",
       "1600  https://www.sciencedirect.com/science/article/...  215790286.0   \n",
       "1605  https://api.elsevier.com/content/article/pii/S...  214758418.0   \n",
       "1607  http://medrxiv.org/cgi/content/short/2020.04.2...  216588708.0   \n",
       "1635  https://www.sciencedirect.com/science/article/...  215550941.0   \n",
       "...                                                 ...          ...   \n",
       "9303  https://api.elsevier.com/content/article/pii/S...  213341263.0   \n",
       "9304  https://doi.org/10.1093/cid/ciy614; https://ww...   52957133.0   \n",
       "9306  https://doi.org/10.1016/j.bja.2020.02.008; htt...  211726841.0   \n",
       "9308  https://www.ncbi.nlm.nih.gov/pubmed/22113877/;...   15853141.0   \n",
       "9312  https://www.sciencedirect.com/science/article/...  132618122.0   \n",
       "\n",
       "     referenced_by_count                                    JournalName_DOI  \\\n",
       "1596                   0                                                NaN   \n",
       "1600                  54     Journal of the American Academy of Dermatology   \n",
       "1605                 219                  Canadian Journal of Ophthalmology   \n",
       "1607                  42                                                NaN   \n",
       "1635                  33  Journal of the American Society of Echocardiog...   \n",
       "...                  ...                                                ...   \n",
       "9303                   4                                      New Scientist   \n",
       "9304                  68                       Clinical Infectious Diseases   \n",
       "9306                 238                     British Journal of Anaesthesia   \n",
       "9308                 100                  Environmental Health Perspectives   \n",
       "9312                  38                         Environmental Microbiology   \n",
       "\n",
       "     tags TagCount multihot_labels  \\\n",
       "1596   []        0            None   \n",
       "1600   []        0            None   \n",
       "1605   []        0            None   \n",
       "1607   []        0            None   \n",
       "1635   []        0            None   \n",
       "...   ...      ...             ...   \n",
       "9303   []        0            None   \n",
       "9304   []        0            None   \n",
       "9306   []        0            None   \n",
       "9308   []        0            None   \n",
       "9312   []        0            None   \n",
       "\n",
       "                                       predicted_labels  predicted_count  \n",
       "1596                   [Quantitative Data and Analysis]                1  \n",
       "1600                   [Quantitative Data and Analysis]                1  \n",
       "1605                                                 []                0  \n",
       "1607                   [Quantitative Data and Analysis]                1  \n",
       "1635  [Theoretical Frameworks or Models, Comparative...                1  \n",
       "...                                                 ...              ...  \n",
       "9303                 [Theoretical Frameworks or Models]                0  \n",
       "9304                                                 []                2  \n",
       "9306                                                 []                0  \n",
       "9308  [Methodologies or Experimental Designs, Quanti...                1  \n",
       "9312                 [Theoretical Frameworks or Models]                2  \n",
       "\n",
       "[2433 rows x 26 columns]"
      ]
     },
     "execution_count": 45,
     "metadata": {},
     "output_type": "execute_result"
    }
   ],
   "source": [
    "unlabelled_df"
   ]
  },
  {
   "cell_type": "code",
   "execution_count": 46,
   "id": "0fe745e4-b6b9-4d69-b1de-c85aeeccb0df",
   "metadata": {},
   "outputs": [],
   "source": [
    "unlabelled_df['predicted_count'] = unlabelled_df['predicted_labels'].apply(len)"
   ]
  },
  {
   "cell_type": "code",
   "execution_count": 47,
   "id": "f3e8da52-6437-48d3-9a8e-613db265c530",
   "metadata": {},
   "outputs": [
    {
     "data": {
      "text/plain": [
       "predicted_count\n",
       "1    1484\n",
       "0     538\n",
       "2     365\n",
       "3      46\n",
       "Name: count, dtype: int64"
      ]
     },
     "execution_count": 47,
     "metadata": {},
     "output_type": "execute_result"
    }
   ],
   "source": [
    "frequency = unlabelled_df['predicted_count'].value_counts()\n",
    "frequency"
   ]
  },
  {
   "cell_type": "code",
   "execution_count": 48,
   "id": "de1311c7-660d-4499-bb1b-0fda38c626ff",
   "metadata": {},
   "outputs": [],
   "source": [
    "from collections import Counter"
   ]
  },
  {
   "cell_type": "code",
   "execution_count": 49,
   "id": "5c980b4a-c910-49dc-9b10-ee75d5c4cfb4",
   "metadata": {},
   "outputs": [],
   "source": [
    "all_tags = [tag for tags_list in unlabelled_df['predicted_labels'] for tag in tags_list]\n",
    "\n",
    "tag_frequency = Counter(all_tags)"
   ]
  },
  {
   "cell_type": "code",
   "execution_count": 50,
   "id": "f0833d75-b9db-4e41-92ce-da7476fb44db",
   "metadata": {},
   "outputs": [
    {
     "data": {
      "text/html": [
       "<div>\n",
       "<style scoped>\n",
       "    .dataframe tbody tr th:only-of-type {\n",
       "        vertical-align: middle;\n",
       "    }\n",
       "\n",
       "    .dataframe tbody tr th {\n",
       "        vertical-align: top;\n",
       "    }\n",
       "\n",
       "    .dataframe thead th {\n",
       "        text-align: right;\n",
       "    }\n",
       "</style>\n",
       "<table border=\"1\" class=\"dataframe\">\n",
       "  <thead>\n",
       "    <tr style=\"text-align: right;\">\n",
       "      <th></th>\n",
       "      <th>Predicted_Labels</th>\n",
       "      <th>Frequency</th>\n",
       "    </tr>\n",
       "  </thead>\n",
       "  <tbody>\n",
       "    <tr>\n",
       "      <th>0</th>\n",
       "      <td>Quantitative Data and Analysis</td>\n",
       "      <td>863</td>\n",
       "    </tr>\n",
       "    <tr>\n",
       "      <th>4</th>\n",
       "      <td>Methodologies or Experimental Designs</td>\n",
       "      <td>700</td>\n",
       "    </tr>\n",
       "    <tr>\n",
       "      <th>1</th>\n",
       "      <td>Theoretical Frameworks or Models</td>\n",
       "      <td>303</td>\n",
       "    </tr>\n",
       "    <tr>\n",
       "      <th>3</th>\n",
       "      <td>Research Gaps</td>\n",
       "      <td>179</td>\n",
       "    </tr>\n",
       "    <tr>\n",
       "      <th>2</th>\n",
       "      <td>Comparative Works</td>\n",
       "      <td>157</td>\n",
       "    </tr>\n",
       "    <tr>\n",
       "      <th>5</th>\n",
       "      <td>Literature Review</td>\n",
       "      <td>137</td>\n",
       "    </tr>\n",
       "    <tr>\n",
       "      <th>6</th>\n",
       "      <td>Exploring Interdisciplinary Connection</td>\n",
       "      <td>13</td>\n",
       "    </tr>\n",
       "  </tbody>\n",
       "</table>\n",
       "</div>"
      ],
      "text/plain": [
       "                         Predicted_Labels  Frequency\n",
       "0          Quantitative Data and Analysis        863\n",
       "4   Methodologies or Experimental Designs        700\n",
       "1        Theoretical Frameworks or Models        303\n",
       "3                           Research Gaps        179\n",
       "2                       Comparative Works        157\n",
       "5                       Literature Review        137\n",
       "6  Exploring Interdisciplinary Connection         13"
      ]
     },
     "execution_count": 50,
     "metadata": {},
     "output_type": "execute_result"
    }
   ],
   "source": [
    "label_frequency_df = pd.DataFrame(tag_frequency.items(), columns=['Predicted_Labels', 'Frequency']).sort_values(by='Frequency', ascending=False)\n",
    "label_frequency_df"
   ]
  },
  {
   "cell_type": "code",
   "execution_count": 51,
   "id": "38411f4d-1fd3-431d-b1c7-9f14c5b690b3",
   "metadata": {},
   "outputs": [],
   "source": [
    "unlabelled_df.to_csv(\"predicted_purposes.csv\", index=False)"
   ]
  },
  {
   "cell_type": "code",
   "execution_count": null,
   "id": "11faf703-0a42-494f-92a7-5ddc3df7bd82",
   "metadata": {},
   "outputs": [],
   "source": []
  }
 ],
 "metadata": {
  "kernelspec": {
   "display_name": "Python 3 (ipykernel)",
   "language": "python",
   "name": "python3"
  },
  "language_info": {
   "codemirror_mode": {
    "name": "ipython",
    "version": 3
   },
   "file_extension": ".py",
   "mimetype": "text/x-python",
   "name": "python",
   "nbconvert_exporter": "python",
   "pygments_lexer": "ipython3",
   "version": "3.11.0"
  }
 },
 "nbformat": 4,
 "nbformat_minor": 5
}
